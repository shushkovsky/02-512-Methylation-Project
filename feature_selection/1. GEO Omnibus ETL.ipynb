{
 "cells": [
  {
   "cell_type": "code",
   "execution_count": null,
   "id": "a0eb54f9",
   "metadata": {},
   "outputs": [],
   "source": [
    "import gzip\n",
    "import os\n",
    "import re\n",
    "import tarfile\n",
    "\n",
    "import numpy as np\n",
    "import pandas as pd"
   ]
  },
  {
   "cell_type": "markdown",
   "id": "d614291f",
   "metadata": {},
   "source": [
    "## Build ETL Pipeline"
   ]
  },
  {
   "cell_type": "code",
   "execution_count": null,
   "id": "ebcc2dee",
   "metadata": {},
   "outputs": [],
   "source": [
    "def get_by_geoid(ids):\n",
    "    new_indiv = {}\n",
    "    non_decimal = re.compile(r'[^\\d.]+')\n",
    "\n",
    "    for geo_id in healthy_id:\n",
    "        # Ignore corrupt GEO data\n",
    "        try:\n",
    "            import GEOparse\n",
    "            gse = GEOparse.get_GEO(geo=geo_id, destdir=\"./\")\n",
    "        except Exception as e:\n",
    "            print(e)\n",
    "            continue\n",
    "\n",
    "        # Logging: Print out first individual's data\n",
    "        printed = False\n",
    "        \n",
    "        for gsm_name, gsm in gse.gsms.items():\n",
    "            indiv_data = {}\n",
    "            indiv_data['name'] = gsm_name\n",
    "            indiv_data['dataset'] = geo_id\n",
    "            age_cols = [k for k in gsm.metadata['characteristics_ch1'] if 'age' in k.lower()]\n",
    "            if ('characteristics_ch1' in gsm.metadata.keys() and \n",
    "                len(age_cols) > 0):\n",
    "                \n",
    "                # Ignore individual if required data is unavailable\n",
    "                try:\n",
    "                    if not printed:\n",
    "                        print(geo_id, True, age_cols[0])\n",
    "                        printed = True\n",
    "\n",
    "                    indiv_data['age'] = age_cols[0]\n",
    "                    if geo_id == 'GSE36064':\n",
    "                        indiv_data['age'] = float(non_decimal.sub('', indiv_data['age'])) / 12\n",
    "                    else:\n",
    "                        indiv_data['age'] = float(non_decimal.sub('', indiv_data['age']))\n",
    "\n",
    "                    for i, row in gsm.table.iterrows():\n",
    "                        indiv_data[row['ID_REF']] = row['VALUE']\n",
    "\n",
    "                    new_indiv[gsm_name] = indiv_data\n",
    "                except Exception as e:\n",
    "                    print(e)\n",
    "                    print(indiv_data)\n",
    "                    pass\n",
    "            if not printed:\n",
    "                try:\n",
    "                    print(gsm.metadata['characteristics_ch1'])\n",
    "                except:\n",
    "                    print(geo_id, False)\n",
    "                break\n",
    "        print(len(new_indiv))\n",
    "\n",
    "    return new_indiv"
   ]
  },
  {
   "cell_type": "markdown",
   "id": "4fc92424",
   "metadata": {},
   "source": [
    "## Get Healthy Patient Data"
   ]
  },
  {
   "cell_type": "code",
   "execution_count": null,
   "id": "ea163a17",
   "metadata": {
    "scrolled": true
   },
   "outputs": [],
   "source": [
    "healthy_ids = [\n",
    "    'GSE20067',\n",
    "    'GSE20236',\n",
    "    'GSE20242',\n",
    "    'GSE27097',\n",
    "    'GSE27317',\n",
    "    'GSE32149',\n",
    "    'GSE34257',\n",
    "    'GSE34869',\n",
    "    'GSE36064',\n",
    "    'GSE36642',\n",
    "    'GSE37008',\n",
    "    'GSE41169',\n",
    "    'GSE53128',\n",
    "    'GSE65638',\n",
    "]\n",
    "\n",
    "healthy_individuals = get_by_geoid(healthy_ids)"
   ]
  },
  {
   "cell_type": "code",
   "execution_count": null,
   "id": "283f6a91",
   "metadata": {},
   "outputs": [],
   "source": [
    "diabetes_ids = ['GSE20067']\n",
    "diabetes_indivduals = get_by_geoid(diabetes_ids)"
   ]
  },
  {
   "cell_type": "markdown",
   "id": "69883c37",
   "metadata": {},
   "source": [
    "## Data to dataframe"
   ]
  },
  {
   "cell_type": "code",
   "execution_count": null,
   "id": "87aee0a5",
   "metadata": {},
   "outputs": [],
   "source": [
    "healthy_df = pd.DataFrame(healthy_indivduals).transpose()"
   ]
  },
  {
   "cell_type": "code",
   "execution_count": null,
   "id": "fdc9dce7",
   "metadata": {},
   "outputs": [],
   "source": [
    "diabetes_df = pd.DataFrame(diabetes_indivduals).transpose()"
   ]
  },
  {
   "cell_type": "code",
   "execution_count": null,
   "id": "fe9d34f0",
   "metadata": {},
   "outputs": [],
   "source": [
    "healthy_df.shape"
   ]
  },
  {
   "cell_type": "markdown",
   "id": "a81c275c",
   "metadata": {},
   "source": [
    "Drop bad data: nan columns and datasets that don't actually give us the same cpg sequences that all the other datasets give us. These columns are selected as they quickly drop bad GEO datasets from our dataset."
   ]
  },
  {
   "cell_type": "code",
   "execution_count": null,
   "id": "9269ee1f",
   "metadata": {},
   "outputs": [],
   "source": [
    "healthy_df = healthy_df.drop(healthy_df[healthy_df['cg19761273'] < 0].index)\n",
    "healthy_df = healthy_df.drop(healthy_df[healthy_df['cg19761273'].isna()].index)\n",
    "healthy_df = healthy_df.dropna(axis=1)"
   ]
  },
  {
   "cell_type": "code",
   "execution_count": null,
   "id": "ed942371",
   "metadata": {
    "scrolled": true
   },
   "outputs": [],
   "source": [
    "healthy_df.shape"
   ]
  },
  {
   "cell_type": "markdown",
   "id": "bf700ffc",
   "metadata": {},
   "source": [
    "We will trim rows from our diabetes dataset after filtering for our methylation sites. Methylation sites will be selected from the healthy individuals"
   ]
  },
  {
   "cell_type": "code",
   "execution_count": null,
   "id": "aaf9fd72",
   "metadata": {},
   "outputs": [],
   "source": [
    "diabetes_df.shape"
   ]
  },
  {
   "cell_type": "markdown",
   "id": "80d373c8",
   "metadata": {},
   "source": [
    "## Export Data"
   ]
  },
  {
   "cell_type": "code",
   "execution_count": null,
   "id": "e775f3e4",
   "metadata": {},
   "outputs": [],
   "source": [
    "healthy_df.to_csv('healthy_raw.csv')\n",
    "diabetes_df.to_csv('diabetes_raw.csv')"
   ]
  }
 ],
 "metadata": {
  "kernelspec": {
   "display_name": "base",
   "language": "python",
   "name": "base"
  },
  "language_info": {
   "codemirror_mode": {
    "name": "ipython",
    "version": 3
   },
   "file_extension": ".py",
   "mimetype": "text/x-python",
   "name": "python",
   "nbconvert_exporter": "python",
   "pygments_lexer": "ipython3",
   "version": "3.9.5"
  }
 },
 "nbformat": 4,
 "nbformat_minor": 5
}

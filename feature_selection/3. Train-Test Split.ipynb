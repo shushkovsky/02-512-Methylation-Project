{
 "cells": [
  {
   "cell_type": "code",
   "execution_count": 27,
   "id": "71b3ce33",
   "metadata": {},
   "outputs": [],
   "source": [
    "import os\n",
    "\n",
    "import pandas as pd\n",
    "import matplotlib.pyplot as plt\n",
    "from sklearn.model_selection import train_test_split"
   ]
  },
  {
   "cell_type": "code",
   "execution_count": 28,
   "id": "3fbdc1da",
   "metadata": {},
   "outputs": [],
   "source": [
    "def get_path(fp):\n",
    "    return os.path.join('out', fp)\n",
    "\n",
    "def get_output_path(fp):\n",
    "    return os.path.join('out', 'train_test_split', fp)"
   ]
  },
  {
   "cell_type": "code",
   "execution_count": 29,
   "id": "0ce535aa",
   "metadata": {},
   "outputs": [],
   "source": [
    "for kind in ['diabetic', 'healthy']:\n",
    "    df = pd.read_csv(get_path(f'{kind}_top10.csv'), index_col='Unnamed: 0')\n",
    "    norm_df = pd.read_csv(get_path(f'{kind}_top10_minmaxnorm.csv'), index_col='Unnamed: 0')\n",
    "\n",
    "    np_df = df.to_numpy()\n",
    "    X = np_df[:, :-1]\n",
    "    y = np_df[:, -1]\n",
    "    X_train, X_test, y_train, y_test = train_test_split(\n",
    "        X, y, test_size=0.1, random_state=888,\n",
    "    )\n",
    "    train_df = pd.DataFrame(X_train, columns=df.columns[:-1])\n",
    "    train_df['age'] = y_train\n",
    "    test_df = pd.DataFrame(X_test, columns=df.columns[:-1])\n",
    "    test_df['age'] = y_test\n",
    "    train_df.to_csv(get_output_path(f'{kind}_train.csv'))\n",
    "    test_df.to_csv(get_output_path(f'{kind}_test.csv'))\n",
    "\n",
    "    np_df = norm_df.to_numpy()\n",
    "    X = np_df[:, :-1]\n",
    "    y = np_df[:, -1]\n",
    "    X_train, X_test, y_train, y_test = train_test_split(\n",
    "        X, y, test_size=0.1, random_state=888,\n",
    "    )\n",
    "    train_df = pd.DataFrame(X_train, columns=df.columns[:-1])\n",
    "    train_df['age'] = y_train\n",
    "    test_df = pd.DataFrame(X_test, columns=df.columns[:-1])\n",
    "    test_df['age'] = y_test\n",
    "    train_df.to_csv(get_output_path(f'{kind}_train_norm.csv'))\n",
    "    test_df.to_csv(get_output_path(f'{kind}_test_norm.csv'))"
   ]
  }
 ],
 "metadata": {
  "kernelspec": {
   "display_name": "base",
   "language": "python",
   "name": "base"
  },
  "language_info": {
   "codemirror_mode": {
    "name": "ipython",
    "version": 3
   },
   "file_extension": ".py",
   "mimetype": "text/x-python",
   "name": "python",
   "nbconvert_exporter": "python",
   "pygments_lexer": "ipython3",
   "version": "3.9.5"
  }
 },
 "nbformat": 4,
 "nbformat_minor": 5
}

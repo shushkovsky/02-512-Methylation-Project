{
 "cells": [
  {
   "cell_type": "code",
   "execution_count": 9,
   "id": "89f251df",
   "metadata": {},
   "outputs": [],
   "source": [
    "import os\n",
    "\n",
    "import pandas as pd\n",
    "import matplotlib.pyplot as plt\n",
    "import numpy as np\n",
    "from scipy import stats\n",
    "from sklearn.model_selection import train_test_split"
   ]
  },
  {
   "cell_type": "code",
   "execution_count": 2,
   "id": "1f132518",
   "metadata": {},
   "outputs": [],
   "source": [
    "def get_path(fp):\n",
    "    return os.path.join('out', fp)\n",
    "\n",
    "def get_output_path(fp):\n",
    "    return os.path.join('out', 'train_test_split', fp)"
   ]
  },
  {
   "cell_type": "code",
   "execution_count": 3,
   "id": "b95d1102",
   "metadata": {},
   "outputs": [],
   "source": [
    "kind = 'healthy'"
   ]
  },
  {
   "cell_type": "code",
   "execution_count": 4,
   "id": "20b19f77",
   "metadata": {},
   "outputs": [],
   "source": [
    "df = pd.read_csv(get_path(f'{kind}_top10.csv'), index_col='Unnamed: 0')"
   ]
  },
  {
   "cell_type": "code",
   "execution_count": 13,
   "id": "9159bb78",
   "metadata": {},
   "outputs": [
    {
     "name": "stdout",
     "output_type": "stream",
     "text": [
      "-0.1289686138629802\n",
      "-0.11773083446133129\n",
      "-0.23599471839720007\n",
      "-0.10471063694678033\n",
      "0.07019966841793975\n",
      "0.1698195945652428\n",
      "0.10916713607511894\n",
      "0.03409265827402418\n",
      "-0.1990020879258516\n",
      "0.19122634158770244\n"
     ]
    }
   ],
   "source": [
    "for col in [k for k in df.columns if 'cg' in k]:\n",
    "    tdf = df[(np.abs(stats.zscore(df[col])) < 3)]\n",
    "    corr = tdf['age'].corr(tdf[col])\n",
    "    print(corr)"
   ]
  },
  {
   "cell_type": "code",
   "execution_count": null,
   "id": "97e468f3",
   "metadata": {},
   "outputs": [],
   "source": []
  }
 ],
 "metadata": {
  "kernelspec": {
   "display_name": "Python 3 (ipykernel)",
   "language": "python",
   "name": "python3"
  },
  "language_info": {
   "codemirror_mode": {
    "name": "ipython",
    "version": 3
   },
   "file_extension": ".py",
   "mimetype": "text/x-python",
   "name": "python",
   "nbconvert_exporter": "python",
   "pygments_lexer": "ipython3",
   "version": "3.9.5"
  }
 },
 "nbformat": 4,
 "nbformat_minor": 5
}
